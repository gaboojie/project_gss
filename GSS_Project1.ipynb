{
  "nbformat": 4,
  "nbformat_minor": 0,
  "metadata": {
    "colab": {
      "provenance": [],
      "include_colab_link": true
    },
    "kernelspec": {
      "name": "python3",
      "display_name": "Python 3"
    },
    "language_info": {
      "name": "python"
    }
  },
  "cells": [
    {
      "cell_type": "markdown",
      "metadata": {
        "id": "view-in-github",
        "colab_type": "text"
      },
      "source": [
        "<a href=\"https://colab.research.google.com/github/gaboojie/project_gss/blob/main/GSS_Project1.ipynb\" target=\"_parent\"><img src=\"https://colab.research.google.com/assets/colab-badge.svg\" alt=\"Open In Colab\"/></a>"
      ]
    },
    {
      "cell_type": "markdown",
      "source": [
        "Load selected variables into selected_gss_data.csv:"
      ],
      "metadata": {
        "id": "xIdCYra0PUWw"
      }
    },
    {
      "cell_type": "code",
      "execution_count": null,
      "metadata": {
        "id": "ibWX1pYneC5H"
      },
      "outputs": [],
      "source": [
        "import pandas as pd\n",
        "#\n",
        "var_list = ['year', 'age', 'educ', 'relig', 'happy', 'zodiac','polviews', 'degree'] # List of variables you want to save\n",
        "output_filename = 'selected_gss_data.csv' # Name of the file you want to save the data to\n",
        "#\n",
        "modes = ['w','a'] # Has write mode and append mode\n",
        "phase = 0 # Starts in write mode; after one iteration of loop, switches to append mode\n",
        "#\n",
        "for k in range(3): # for each chunk of the data\n",
        "    url = 'https://github.com/DS3001/project_gss/raw/main/gss_chunk_' + str(1+k) + '.parquet' # Create url to the chunk to be processed\n",
        "    #print(url) # Check the url is correct\n",
        "    df = pd.read_parquet(url) # Download this chunk of data\n",
        "    #print(df.head()) # Visually inspect the first few rows\n",
        "    df.loc[:,var_list].to_csv(output_filename, # specifies target file to save the chunk to\n",
        "                              mode=modes[phase], # control write versus append\n",
        "                              header=var_list, # variable names\n",
        "                              index=False) # no row index saved\n",
        "    phase = 1 # Switch from write mode to append mode\n",
        "\n"
      ]
    },
    {
      "cell_type": "markdown",
      "source": [
        "Read .csv into memory."
      ],
      "metadata": {
        "id": "YxArcpQxgmlB"
      }
    },
    {
      "cell_type": "code",
      "source": [
        "df = pd.read_csv('selected_gss_data.csv', low_memory=False)"
      ],
      "metadata": {
        "id": "TVEPd33_glC5"
      },
      "execution_count": null,
      "outputs": []
    },
    {
      "cell_type": "markdown",
      "source": [
        "Only include the years from 2012 to 2022 (2022 is the latest data, as the older data may reflect different trends and that is not the focus of this investigation)"
      ],
      "metadata": {
        "id": "upBjrf0mgXnt"
      }
    },
    {
      "cell_type": "code",
      "source": [
        "# Remove any entries in table that specify the word 'year' as they represent uncleaned data and only\n",
        "# specify which column represents which variable (it's data that should be completely ignored as it represents a row\n",
        "# with all the variables included like at the top of the table)\n",
        "df = df.loc[df['year'] != 'year']\n",
        "\n",
        "# Cast year to number\n",
        "df['year'] = pd.to_numeric(df['year'], errors='coerce')\n",
        "\n",
        "# Filter out the years only between 2012 and 2022\n",
        "df = df.loc[(df.year >= 2012) & (df.year <= 2022)]\n",
        "\n",
        "# Now only includes data from 2012 to 2022\n",
        "print(df, '\\n')"
      ],
      "metadata": {
        "colab": {
          "base_uri": "https://localhost:8080/"
        },
        "id": "9M-Sm-7jgfRU",
        "outputId": "ed03f0cf-eb72-4749-e8c2-535779f3cee3"
      },
      "execution_count": null,
      "outputs": [
        {
          "output_type": "stream",
          "name": "stdout",
          "text": [
            "       year   age  educ       relig         happy     zodiac  \\\n",
            "55089  2012  22.0  16.0    catholic    very happy      libra   \n",
            "55090  2012  21.0  12.0    catholic    very happy      aries   \n",
            "55091  2012  42.0  12.0  protestant  pretty happy      aries   \n",
            "55092  2012  49.0  13.0  protestant    very happy  capricorn   \n",
            "55093  2012  70.0  16.0  protestant    very happy     taurus   \n",
            "...     ...   ...   ...         ...           ...        ...   \n",
            "72387  2022  22.0  12.0       other  pretty happy  capricorn   \n",
            "72388  2022  29.0  19.0    catholic  pretty happy     cancer   \n",
            "72389  2022  32.0  15.0        none  pretty happy    scorpio   \n",
            "72390  2022  49.0  17.0        none    very happy    scorpio   \n",
            "72391  2022  50.0  20.0        none  pretty happy      libra   \n",
            "\n",
            "                           polviews                    degree  \n",
            "55089  moderate, middle of the road                bachelor's  \n",
            "55090         slightly conservative               high school  \n",
            "55091         slightly conservative               high school  \n",
            "55092         slightly conservative               high school  \n",
            "55093                       liberal                bachelor's  \n",
            "...                             ...                       ...  \n",
            "72387             extremely liberal               high school  \n",
            "72388  moderate, middle of the road                  graduate  \n",
            "72389              slightly liberal  associate/junior college  \n",
            "72390              slightly liberal                  graduate  \n",
            "72391                       liberal                  graduate  \n",
            "\n",
            "[17303 rows x 8 columns] \n",
            "\n"
          ]
        },
        {
          "output_type": "stream",
          "name": "stderr",
          "text": [
            "<ipython-input-76-93ff14e41965>:7: SettingWithCopyWarning: \n",
            "A value is trying to be set on a copy of a slice from a DataFrame.\n",
            "Try using .loc[row_indexer,col_indexer] = value instead\n",
            "\n",
            "See the caveats in the documentation: https://pandas.pydata.org/pandas-docs/stable/user_guide/indexing.html#returning-a-view-versus-a-copy\n",
            "  df['year'] = pd.to_numeric(df['year'], errors='coerce')\n"
          ]
        }
      ]
    },
    {
      "cell_type": "markdown",
      "source": [
        "See count of NAs in dataframe df:"
      ],
      "metadata": {
        "id": "7z7ZC2HWPfzI"
      }
    },
    {
      "cell_type": "code",
      "source": [
        "print(\"Rows, columns:\", df.shape)\n",
        "df.isna().sum()"
      ],
      "metadata": {
        "colab": {
          "base_uri": "https://localhost:8080/"
        },
        "id": "rz6kee8xgRxy",
        "outputId": "d71db649-ef8c-4233-b8e6-e37aaaffb9b3"
      },
      "execution_count": null,
      "outputs": [
        {
          "output_type": "stream",
          "name": "stdout",
          "text": [
            "Rows, columns: (17303, 8)\n"
          ]
        },
        {
          "output_type": "execute_result",
          "data": {
            "text/plain": [
              "year          0\n",
              "age         572\n",
              "educ        101\n",
              "relig       211\n",
              "happy        72\n",
              "zodiac      995\n",
              "polviews    587\n",
              "degree       31\n",
              "dtype: int64"
            ]
          },
          "metadata": {},
          "execution_count": 77
        }
      ]
    },
    {
      "cell_type": "markdown",
      "source": [
        "Change column names:"
      ],
      "metadata": {
        "id": "98fjAIzwPpNh"
      }
    },
    {
      "cell_type": "code",
      "source": [
        "df = df.rename(columns = {'educ':'education',\n",
        "                    'relig':'religion',\n",
        "                    'polviews':'political_view', 'degree':'degree_obtained'})"
      ],
      "metadata": {
        "id": "Ci3j2DSxrEtu"
      },
      "execution_count": null,
      "outputs": []
    },
    {
      "cell_type": "markdown",
      "source": [
        "Clean religion variable: (by capitalizing/editing any religion type and replacing any NAs with unknown)."
      ],
      "metadata": {
        "id": "NFNVqOpuRAdk"
      }
    },
    {
      "cell_type": "code",
      "source": [
        "# Capitalize religion type\n",
        "to_replace = {'catholic': 'Catholic', 'protestant': 'Protestant', 'christian': 'Christian', 'none': 'None',\n",
        "              'orthodox-christian': 'Orthodox-Christian', 'hinduism': 'Hinduism', 'other': 'Other', 'muslim/islam': 'Islam',\n",
        "              'other eastern religions': 'Other Eastern Religions', 'buddhism': 'Buddhism', 'inter-nondenominational': 'Inter-Nondenominational',\n",
        "              'native american': 'Native American', 'relig': 'Unknown'}\n",
        "df['religion'] = df['religion'].map(to_replace)\n",
        "\n",
        "# Replace any NAs with unknown and\n",
        "df['religion'].fillna('Unknown', inplace=True) #replace NAs with 'unknown'\n",
        "\n",
        "# Print uniques\n",
        "print(df['religion'].unique())"
      ],
      "metadata": {
        "id": "Oq0Pnn9hRo7w",
        "colab": {
          "base_uri": "https://localhost:8080/"
        },
        "outputId": "0d60ed6d-090a-4568-f2a5-ae9da8e1f4ff"
      },
      "execution_count": null,
      "outputs": [
        {
          "output_type": "stream",
          "name": "stdout",
          "text": [
            "['Catholic' 'Protestant' 'Christian' 'None' 'Orthodox-Christian'\n",
            " 'Hinduism' 'Unknown' 'Other' 'Islam' 'Other Eastern Religions' 'Buddhism'\n",
            " 'Inter-Nondenominational' 'Native American']\n"
          ]
        }
      ]
    },
    {
      "cell_type": "markdown",
      "source": [
        "Clean age variable: (by casting ages to integers and leaving nans as-is in order to graph as it is a numerical type)"
      ],
      "metadata": {
        "id": "wNNQ4gKRONDW"
      }
    },
    {
      "cell_type": "code",
      "source": [
        "# Typecast age to float/numeric\n",
        "df['age'] = pd.to_numeric(df['age'],errors='coerce')\n",
        "\n",
        "# Converts age to integer and removes the .0 at the end\n",
        "df['age'] = df['age'].apply(lambda x: int(x) if pd.notnull(x) else x)\n",
        "\n",
        "print(df['age'].unique())"
      ],
      "metadata": {
        "id": "bRmJlKqbMPr4",
        "colab": {
          "base_uri": "https://localhost:8080/"
        },
        "outputId": "3a50cecc-8c14-4cc8-964b-6b7a046ce80a"
      },
      "execution_count": null,
      "outputs": [
        {
          "output_type": "stream",
          "name": "stdout",
          "text": [
            "[22. 21. 42. 49. 70. 50. 35. 24. 28. 55. 36. 59. 52. 47. 18. 76. 39. 54.\n",
            " 45. 71. 81. 44. 78. 63. 73. 40. 62. 27. 30. 29. 69. 51. 57. 68. 84. 38.\n",
            " 46. 41. 75. 67. 48. 56. 43. 32. 23. 64. 34. 33. nan 19. 26. 60. 66. 53.\n",
            " 58. 72. 74. 82. 61. 31. 65. 77. 25. 20. 89. 87. 83. 37. 85. 80. 86. 79.\n",
            " 88.]\n"
          ]
        }
      ]
    },
    {
      "cell_type": "markdown",
      "source": [
        "Clean degree variable: (by capitalizing each degree type and replacing NA's with unknowns)"
      ],
      "metadata": {
        "id": "i-93SllTYJMz"
      }
    },
    {
      "cell_type": "code",
      "source": [
        "# Capitalize each degree type\n",
        "to_replace = {\"bachelor's\": \"Bachelor's\", \"high school\": \"High School\", \"associate/junior college\": \"Associate/Junior College\",\n",
        "              \"less than high school\": 'Less Than High School', \"graduate\": \"Graduate\", \"unknown\": 'Unknown', \"degree\": \"Unknown\"}\n",
        "df['degree_obtained'] = df['degree_obtained'].map(to_replace)\n",
        "\n",
        "# Replace NA's with Unknowns\n",
        "df['degree_obtained'].fillna('Unknown', inplace=True) #replace NAs with 'unknown'\n",
        "\n",
        "# Print uniques\n",
        "print(df['degree_obtained'].unique())"
      ],
      "metadata": {
        "id": "N9RkfmbQWw-k",
        "colab": {
          "base_uri": "https://localhost:8080/"
        },
        "outputId": "226abb98-a4bd-4eaa-d584-dac08e636934"
      },
      "execution_count": null,
      "outputs": [
        {
          "output_type": "stream",
          "name": "stdout",
          "text": [
            "[\"Bachelor's\" 'High School' 'Associate/Junior College'\n",
            " 'Less Than High School' 'Graduate' 'Unknown']\n"
          ]
        }
      ]
    },
    {
      "cell_type": "markdown",
      "source": [
        "Clean education variable: (by casting to number and as it is a numeric type, keep NA's for graphing purposes)"
      ],
      "metadata": {
        "id": "jcpPrY9hTC_c"
      }
    },
    {
      "cell_type": "code",
      "source": [
        "# Typecast education to float/numeric\n",
        "df['education'] = pd.to_numeric(df['education'], errors='coerce')\n",
        "\n",
        "# Converts age to integer and removes the .0 at the end\n",
        "df['education'] = df['education'].apply(lambda x: int(x) if pd.notnull(x) else x)\n",
        "\n",
        "# Print uniques\n",
        "print(df['education'].unique())"
      ],
      "metadata": {
        "id": "u0Ns3bMgTEy0",
        "colab": {
          "base_uri": "https://localhost:8080/"
        },
        "outputId": "60910fea-f589-44a6-c1a6-6eec971d87d8"
      },
      "execution_count": null,
      "outputs": [
        {
          "output_type": "stream",
          "name": "stdout",
          "text": [
            "[16. 12. 13. 19. 15. 11.  9. 17. 10.  4.  0. 14. 18. 20.  8.  6.  5.  7.\n",
            " nan  3.  1.  2.]\n"
          ]
        }
      ]
    },
    {
      "cell_type": "markdown",
      "source": [
        "Clean happy variable: (Replace any NA's with 'Unknown')"
      ],
      "metadata": {
        "id": "DGFIVyYQZ65A"
      }
    },
    {
      "cell_type": "code",
      "source": [
        "# Capitalize and recategorize\n",
        "to_replace = {'very happy': 'Very Happy', 'pretty happy': 'Moderately Happy', 'not too happy': 'Not Happy'}\n",
        "df['happy'] = df['happy'].map(to_replace)\n",
        "\n",
        "# Replace any NA's with Unknown\n",
        "df['happy'].fillna('Unknown', inplace=True)\n",
        "\n",
        "# Print uniques\n",
        "print(df['happy'].unique())"
      ],
      "metadata": {
        "colab": {
          "base_uri": "https://localhost:8080/"
        },
        "id": "Mjpn_NP-Z7Xw",
        "outputId": "b7f8ab9f-9867-4192-d5f3-6b404075ed36"
      },
      "execution_count": null,
      "outputs": [
        {
          "output_type": "stream",
          "name": "stdout",
          "text": [
            "['Very Happy' 'Moderately Happy' 'Not Happy' 'Unknown']\n"
          ]
        }
      ]
    },
    {
      "cell_type": "markdown",
      "source": [
        "Clean political_view variable: (capitalizing and renaming certain types to be less vague and replacing any NAs with Unknown). Then, creating new variable (political_view_id) that represents how liberal (1) to how conservative (7) a person is.\n",
        "\n"
      ],
      "metadata": {
        "id": "wpkItp-14o2p"
      }
    },
    {
      "cell_type": "code",
      "source": [
        "# Capitalize/edit naming of political view\n",
        "to_replace = {'extremely liberal': \"Extremely Liberal\", 'liberal': 'Liberal', 'slightly liberal': 'Slightly Liberal', 'moderate, middle of the road': 'Moderate',\n",
        "              \"slightly conservative\": 'Slightly Conservative', 'conservative': 'Conservative', 'extremely conservative': 'Extremely Conservative'}\n",
        "df['political_view'] = df['political_view'].map(to_replace)\n",
        "\n",
        "# Map political view to political view id\n",
        "to_replace = {'Extremely Liberal': 1, 'Liberal': 2, 'Slightly Liberal': 3, 'Moderate': 4, 'Slightly Conservative': 5,\n",
        "              'Conservative': 6, 'Extremely Conservative': 7}\n",
        "df['political_view_id'] = df['political_view'].map(to_replace)\n",
        "\n",
        "# Replace NAs with 'Unknown' only for political_view (categorical data type) and not political_view_id (numerical data type)\n",
        "df['political_view'].fillna('Unknown', inplace=True)\n",
        "\n",
        "# Print\n",
        "print(df['political_view'].unique())\n",
        "print(df['political_view_id'].unique())"
      ],
      "metadata": {
        "colab": {
          "base_uri": "https://localhost:8080/"
        },
        "id": "7NxYo_dS4qYX",
        "outputId": "81552f0f-c8b9-4e73-d547-465464173992"
      },
      "execution_count": null,
      "outputs": [
        {
          "output_type": "stream",
          "name": "stdout",
          "text": [
            "['Moderate' 'Slightly Conservative' 'Liberal' 'Conservative'\n",
            " 'Extremely Liberal' 'Unknown' 'Extremely Conservative' 'Slightly Liberal']\n",
            "[ 4.  5.  2.  6.  1. nan  7.  3.]\n"
          ]
        }
      ]
    },
    {
      "cell_type": "markdown",
      "source": [
        "Plot visualizations:"
      ],
      "metadata": {
        "id": "KmgXx44zpEW2"
      }
    },
    {
      "cell_type": "code",
      "source": [],
      "metadata": {
        "id": "DtA2TXXUpGQ-"
      },
      "execution_count": null,
      "outputs": []
    }
  ]
}